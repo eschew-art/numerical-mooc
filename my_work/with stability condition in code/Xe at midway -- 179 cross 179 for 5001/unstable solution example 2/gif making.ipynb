{
 "cells": [
  {
   "cell_type": "code",
   "execution_count": 2,
   "metadata": {},
   "outputs": [],
   "source": [
    "import os,sys\n",
    "import datetime\n",
    "import imageio\n",
    "from pprint import pprint\n",
    "import time\n",
    "import datetime\n",
    "e=sys.exit\n",
    " \n",
    "def create_gif(filenames, duration):\n",
    "\timages = []\n",
    "\tfor filename in filenames:\n",
    "\t\timages.append(imageio.imread(filename))\n",
    "\toutput_file = 'Gif-%s.gif' % datetime.datetime.now().strftime('%Y-%M-%d-%H-%M-%S')\n",
    "\timageio.mimsave(output_file, images, duration=duration)\n",
    " \n",
    " \n",
    "if __name__ == \"__main__\":\n",
    "\tscript = sys.argv.pop(0)\n",
    "\tduration = .2\n",
    "\tfilenames = sorted(filter(os.path.isfile, [x for x in os.listdir() if x.endswith(\".jpg\")]), key=lambda p: os.path.exists(p) and os.stat(p).st_mtime or time.mktime(datetime.now().timetuple()))\n",
    " \n",
    "\tcreate_gif(filenames, duration)"
   ]
  },
  {
   "cell_type": "code",
   "execution_count": null,
   "metadata": {},
   "outputs": [],
   "source": []
  }
 ],
 "metadata": {
  "kernelspec": {
   "display_name": "Python 3",
   "language": "python",
   "name": "python3"
  },
  "language_info": {
   "codemirror_mode": {
    "name": "ipython",
    "version": 3
   },
   "file_extension": ".py",
   "mimetype": "text/x-python",
   "name": "python",
   "nbconvert_exporter": "python",
   "pygments_lexer": "ipython3",
   "version": "3.7.4"
  }
 },
 "nbformat": 4,
 "nbformat_minor": 2
}
