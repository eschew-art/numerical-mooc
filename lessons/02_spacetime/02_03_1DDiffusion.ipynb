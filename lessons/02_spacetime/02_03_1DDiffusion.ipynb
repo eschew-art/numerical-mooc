{
 "cells": [
  {
   "cell_type": "markdown",
   "metadata": {},
   "source": [
    "###### Content under Creative Commons Attribution license CC-BY 4.0, code under MIT license (c)2014 L.A. Barba, G.F. Forsyth, C. Cooper. Based on [CFDPython](https://github.com/barbagroup/CFDPython), (c)2013 L.A. Barba, also under CC-BY license."
   ]
  },
  {
   "cell_type": "markdown",
   "metadata": {},
   "source": [
    "# Space & Time"
   ]
  },
  {
   "cell_type": "markdown",
   "metadata": {},
   "source": [
    "## 1-D Diffusion"
   ]
  },
  {
   "cell_type": "markdown",
   "metadata": {},
   "source": [
    "Welcome back! This is the third Jupyter Notebook of the series *Space and Time — Introduction of Finite-difference solutions of PDEs*, the second module of [\"Practical Numerical Methods with Python\"](https://openedx.seas.gwu.edu/courses/course-v1:MAE+MAE6286+2017/about). \n",
    "\n",
    "In the previous Jupyter notebooks of this series, we studied the numerical solution of the linear and non-linear convection equations using the finite-difference method, and learned about the CFL condition. Now, we will look at the one-dimensional diffusion equation:\n",
    "\n",
    "$$\n",
    "\\begin{equation}\n",
    "\\frac{\\partial u}{\\partial t}= \\nu \\frac{\\partial^2 u}{\\partial x^2}\n",
    "\\end{equation}\n",
    "$$\n",
    "\n",
    "where $\\nu$ is a constant known as the *diffusion coefficient*.\n",
    "\n",
    "The first thing you should notice is that this equation has a second-order derivative. We first need to learn what to do with it!"
   ]
  },
  {
   "cell_type": "markdown",
   "metadata": {},
   "source": [
    "### Discretizing 2nd-order derivatives"
   ]
  },
  {
   "cell_type": "markdown",
   "metadata": {},
   "source": [
    "The second-order derivative can be represented geometrically as the line tangent to the curve given by the first derivative.  We will discretize the second-order derivative with a Central Difference scheme: a combination of forward difference and backward difference of the first derivative.  Consider the Taylor expansion of $u_{i+1}$ and $u_{i-1}$ around $u_i$:\n",
    "\n",
    "$$\n",
    "u_{i+1} = u_i + \\Delta x \\frac{\\partial u}{\\partial x}\\big|_i + \\frac{\\Delta x^2}{2!} \\frac{\\partial ^2 u}{\\partial x^2}\\big|_i + \\frac{\\Delta x^3}{3!} \\frac{\\partial ^3 u}{\\partial x^3}\\big|_i + {\\mathcal O}(\\Delta x^4)\n",
    "$$\n",
    "\n",
    "$$\n",
    "u_{i-1} = u_i - \\Delta x \\frac{\\partial u}{\\partial x}\\big|_i + \\frac{\\Delta x^2}{2!} \\frac{\\partial ^2 u}{\\partial x^2}\\big|_i - \\frac{\\Delta x^3}{3!} \\frac{\\partial ^3 u}{\\partial x^3}\\big|_i + {\\mathcal O}(\\Delta x^4)\n",
    "$$\n",
    "\n",
    "If we add these two expansions, the odd-numbered derivatives will cancel out.  Neglecting any terms of ${\\mathcal O}(\\Delta x^4)$ or higher (and really, those are very small), we can rearrange the sum of these two expansions to solve for the second-derivative.  \n",
    "\n",
    "$$\n",
    "u_{i+1} + u_{i-1} = 2u_i+\\Delta x^2 \\frac{\\partial ^2 u}{\\partial x^2}\\big|_i + {\\mathcal O}(\\Delta x^4)\n",
    "$$\n",
    "\n",
    "And finally:\n",
    "\n",
    "$$\n",
    "\\begin{equation}\n",
    "\\frac{\\partial ^2 u}{\\partial x^2}=\\frac{u_{i+1}-2u_{i}+u_{i-1}}{\\Delta x^2} + {\\mathcal O}(\\Delta x^2)\n",
    "\\end{equation}\n",
    "$$\n",
    "\n",
    "The central difference approximation of the 2nd-order derivative is 2nd-order accurate."
   ]
  },
  {
   "cell_type": "markdown",
   "metadata": {},
   "source": [
    "### Back to diffusion"
   ]
  },
  {
   "cell_type": "markdown",
   "metadata": {},
   "source": [
    "We can now write the discretized version of the diffusion equation in 1D:\n",
    "\n",
    "$$\n",
    "\\begin{equation}\n",
    "\\frac{u_{i}^{n+1}-u_{i}^{n}}{\\Delta t}=\\nu\\frac{u_{i+1}^{n}-2u_{i}^{n}+u_{i-1}^{n}}{\\Delta x^2}\n",
    "\\end{equation}\n",
    "$$\n",
    "\n",
    "As before, we notice that once we have an initial condition, the only unknown is $u_{i}^{n+1}$, so we re-arrange the equation to isolate this term:\n",
    "\n",
    "$$\n",
    "\\begin{equation}\n",
    "u_{i}^{n+1}=u_{i}^{n}+\\frac{\\nu\\Delta t}{\\Delta x^2}(u_{i+1}^{n}-2u_{i}^{n}+u_{i-1}^{n})\n",
    "\\end{equation}\n",
    "$$\n",
    "\n",
    "This discrete equation allows us to write a program that advances a solution in time—but we need an initial condition. Let's continue using our favorite: the hat function. So, at $t=0$, $u=2$ in the interval $0.5\\le x\\le 1$ and $u=1$ everywhere else."
   ]
  },
  {
   "cell_type": "markdown",
   "metadata": {},
   "source": [
    "### Stability of the diffusion equation"
   ]
  },
  {
   "cell_type": "markdown",
   "metadata": {},
   "source": [
    "The diffusion equation is not free of stability constraints. Just like the linear and non-linear convection equations, there are a set of discretization parameters $\\Delta x$ and $\\Delta t$ that will make the numerical solution blow up. For the diffusion equation and the discretization used here, the stability condition for diffusion is\n",
    "\n",
    "$$\n",
    "\\begin{equation}\n",
    "\\nu \\frac{\\Delta t}{\\Delta x^2} \\leq \\frac{1}{2}\n",
    "\\end{equation}\n",
    "$$"
   ]
  },
  {
   "cell_type": "markdown",
   "metadata": {},
   "source": [
    "### And solve!"
   ]
  },
  {
   "cell_type": "markdown",
   "metadata": {},
   "source": [
    " We are ready to number-crunch!\n",
    "\n",
    "The next two code cells initialize the problem by loading the needed libraries, then defining the solution parameters and initial condition. This time, we don't let the user choose just *any* $\\Delta t$, though; we have decided this is not safe: people just like to blow things up. Instead, the code calculates a value of $\\Delta t$ that will be in the stable range, according to the spatial discretization chosen! You can now experiment with different solution parameters to see how the numerical solution changes, but it won't blow up."
   ]
  },
  {
   "cell_type": "code",
   "execution_count": 3,
   "metadata": {},
   "outputs": [],
   "source": [
    "import numpy\n",
    "from matplotlib import pyplot\n",
    "%matplotlib inline"
   ]
  },
  {
   "cell_type": "code",
   "execution_count": 4,
   "metadata": {},
   "outputs": [],
   "source": [
    "# Set the font family and size to use for Matplotlib figures.\n",
    "pyplot.rcParams['font.family'] = 'serif'\n",
    "pyplot.rcParams['font.size'] = 16"
   ]
  },
  {
   "cell_type": "code",
   "execution_count": 5,
   "metadata": {},
   "outputs": [],
   "source": [
    "# Set parameters.\n",
    "nx = 41  # number spatial grid points\n",
    "L = 2.0  # length of the domain\n",
    "dx = L / (nx - 1)  # spatial grid size\n",
    "nu = 0.3  # viscosity\n",
    "sigma = 0.2  # CFL limit\n",
    "dt = sigma * dx**2 / nu  # time-step size\n",
    "nt = 20  # number of time steps to compute\n",
    "\n",
    "# Get the grid point coordinates.\n",
    "x = numpy.linspace(0.0, L, num=nx)\n",
    "\n",
    "# Set the initial conditions.\n",
    "u0 = numpy.ones(nx)\n",
    "mask = numpy.where(numpy.logical_and(x >= 0.5, x <= 1.0))\n",
    "u0[mask] = 2.0"
   ]
  },
  {
   "cell_type": "code",
   "execution_count": 6,
   "metadata": {},
   "outputs": [],
   "source": [
    "# Integrate in time.\n",
    "u = u0.copy()\n",
    "for n in range(nt):\n",
    "    u[1:-1] = u[1:-1] + nu * dt / dx**2 * (u[2:] - 2 * u[1:-1] + u[:-2])"
   ]
  },
  {
   "cell_type": "code",
   "execution_count": 7,
   "metadata": {},
   "outputs": [
    {
     "data": {
      "image/png": "[encoded data removed]",
      "text/plain": [
       "<Figure size 432x288 with 1 Axes>"
      ]
     },
     "metadata": {
      "needs_background": "light"
     },
     "output_type": "display_data"
    }
   ],
   "source": [
    "# Plot the solution after nt time steps\n",
    "# along with the initial conditions.\n",
    "pyplot.figure(figsize=(6.0, 4.0))\n",
    "pyplot.xlabel('x')\n",
    "pyplot.ylabel('u')\n",
    "pyplot.grid()\n",
    "pyplot.plot(x, u0, label='Initial',\n",
    "            color='C0', linestyle='--', linewidth=2)\n",
    "pyplot.plot(x, u, label='nt = {}'.format(nt),\n",
    "            color='C1', linestyle='-', linewidth=2)\n",
    "pyplot.legend(loc='upper right')\n",
    "pyplot.xlim(0.0, L)\n",
    "pyplot.ylim(0.5, 2.5);"
   ]
  },
  {
   "cell_type": "markdown",
   "metadata": {},
   "source": [
    "## Animations"
   ]
  },
  {
   "cell_type": "markdown",
   "metadata": {},
   "source": [
    "Looking at before-and-after plots of the wave in motion is helpful, but it's even better if we can see it changing! \n",
    "\n",
    "First, let's import the `animation` module of `matplotlib` as well as a special IPython display method called `HTML` (more on this in a bit)."
   ]
  },
  {
   "cell_type": "markdown",
   "metadata": {},
   "source": [
    "##### Note\n",
    "\n",
    "You will also have to install a video encoder/decoder named `ffmpeg`.\n",
    "\n",
    "If you use Linux or OSX, you can install ffmpeg using conda:\n",
    "```\n",
    "conda install -c conda-forge ffmpeg\n",
    "```\n",
    "\n",
    "If you use Windows, installation instructions can be found [here](http://adaptivesamples.com/how-to-install-ffmpeg-on-windows/)."
   ]
  },
  {
   "cell_type": "code",
   "execution_count": 8,
   "metadata": {},
   "outputs": [],
   "source": [
    "from matplotlib import animation\n",
    "from IPython.display import HTML"
   ]
  },
  {
   "cell_type": "markdown",
   "metadata": {},
   "source": [
    "We are going to create an animation.\n",
    "This takes a few steps, but it's actually not hard to do!\n",
    "\n",
    "First, we define a function, called `diffusion`, that computes the numerical solution of the 1D diffusion equation over the time steps.\n",
    "(The function returns a list with `nt` elements, each one being a Numpy array.)"
   ]
  },
  {
   "cell_type": "code",
   "execution_count": 9,
   "metadata": {},
   "outputs": [],
   "source": [
    "def diffusion(u0, sigma=0.5, nt=20):\n",
    "    \"\"\"\n",
    "    Computes the numerical solution of the 1D diffusion equation\n",
    "    over the time steps.\n",
    "    \n",
    "    Parameters\n",
    "    ----------\n",
    "    u0 : numpy.ndarray\n",
    "        The initial conditions as a 1D array of floats.\n",
    "    sigma : float, optional\n",
    "        The value of nu * dt / dx^2;\n",
    "        default: 0.5.\n",
    "    nt : integer, optional\n",
    "        The number of time steps to compute;\n",
    "        default: 20.\n",
    "    \n",
    "    Returns\n",
    "    -------\n",
    "    u_hist : list of numpy.ndarray objects\n",
    "        The history of the numerical solution.\n",
    "    \"\"\"\n",
    "    u_hist = [u0.copy()]\n",
    "    u = u0.copy()\n",
    "    for n in range(nt):\n",
    "        u[1:-1] = u[1:-1] + sigma * (u[2:] - 2 * u[1:-1] + u[:-2])\n",
    "        u_hist.append(u.copy())\n",
    "    return u_hist"
   ]
  },
  {
   "cell_type": "markdown",
   "metadata": {},
   "source": [
    "We now call the function to store the history of the solution:"
   ]
  },
  {
   "cell_type": "code",
   "execution_count": 10,
   "metadata": {},
   "outputs": [],
   "source": [
    "# Compute the history of the numerical solution.\n",
    "u_hist = diffusion(u0, sigma=sigma, nt=nt)"
   ]
  },
  {
   "cell_type": "markdown",
   "metadata": {},
   "source": [
    "Next, we create a Matplotlib figure that we want to animate.\n",
    "For now, the figure contains the initial solution (our top-hat function)."
   ]
  },
  {
   "cell_type": "code",
   "execution_count": 11,
   "metadata": {},
   "outputs": [
    {
     "data": {
      "image/png": "[encoded data removed]",
      "text/plain": [
       "<Figure size 432x288 with 1 Axes>"
      ]
     },
     "metadata": {
      "needs_background": "light"
     },
     "output_type": "display_data"
    }
   ],
   "source": [
    "fig = pyplot.figure(figsize=(6.0, 4.0))\n",
    "pyplot.xlabel('x')\n",
    "pyplot.ylabel('u')\n",
    "pyplot.grid()\n",
    "line = pyplot.plot(x, u0,\n",
    "                   color='C0', linestyle='-', linewidth=2)[0]\n",
    "pyplot.xlim(0.0, L)\n",
    "pyplot.ylim(0.5, 2.5)\n",
    "fig.tight_layout()"
   ]
  },
  {
   "cell_type": "markdown",
   "metadata": {},
   "source": [
    "**Note**: `pyplot.plot()` can (optionally) return several values. Since we're only creating one line, we ask it for the \"zeroth\" (and only...) line by adding `[0]` after the `pyplot.plot()` call."
   ]
  },
  {
   "cell_type": "markdown",
   "metadata": {},
   "source": [
    "Now that our figure is initialized, we define a function `update_plot` to update the data of the line plot based on the time-step index."
   ]
  },
  {
   "cell_type": "code",
   "execution_count": 12,
   "metadata": {},
   "outputs": [],
   "source": [
    "def update_plot(n, u_hist):\n",
    "    \"\"\"\n",
    "    Update the line y-data of the Matplotlib figure.\n",
    "    \n",
    "    Parameters\n",
    "    ----------\n",
    "    n : integer\n",
    "        The time-step index.\n",
    "    u_hist : list of numpy.ndarray objects\n",
    "        The history of the numerical solution.\n",
    "    \"\"\"\n",
    "    fig.suptitle('Time step {:0>2}'.format(n))\n",
    "    line.set_ydata(u_hist[n])"
   ]
  },
  {
   "cell_type": "markdown",
   "metadata": {},
   "source": [
    "Next, we create an `animation.FuncAnimation` object with the following arguments:\n",
    "\n",
    "* `fig`: the name of our figure,\n",
    "* `diffusion`: the name of our solver function,\n",
    "* `frames`: the number of frames to dra (which we set equal to `nt`),\n",
    "* `fargs`: extra arguments to pass to the function `diffusion`,\n",
    "* `interval`: the number of milliseconds each frame appears for."
   ]
  },
  {
   "cell_type": "code",
   "execution_count": 13,
   "metadata": {},
   "outputs": [],
   "source": [
    "# Create an animation.\n",
    "anim = animation.FuncAnimation(fig, update_plot,\n",
    "                               frames=nt, fargs=(u_hist,),\n",
    "                               interval=100)"
   ]
  },
  {
   "cell_type": "markdown",
   "metadata": {},
   "source": [
    "Ok! Time to display the animation.\n",
    "We use the `HTML` display method that we imported above and the `to_html5_video` method of the animation object to make it web compatible."
   ]
  },
  {
   "cell_type": "code",
   "execution_count": 14,
   "metadata": {},
   "outputs": [
    {
     "data": {
      "text/html": [
       "<video width=\"432\" height=\"288\" controls autoplay loop>\n",
       "  <source type=\"video/mp4\" src=\"data:video/mp4;base64,AAAAHGZ0eXBNNFYgAAACAGlzb21pc28yYXZjMQAAAAhmcmVlAAA0Fm1kYXQAAAKgBgX//5zcRem9\n",
       "5tlIt5Ys2CDZI+7veDI2NCAtIGNvcmUgMTU4IC0gSC4yNjQvTVBFRy00IEFWQyBjb2RlYyAtIENv\n",
       "cHlsZWZ0IDIwMDMtMjAxOSAtIGh0dHA6Ly93d3cudmlkZW9sYW4ub3JnL3gyNjQuaHRtbCAtIG9w\n",
       "dGlvbnM6IGNhYmFjPTEgcmVmPTMgZGVibG9jaz0xOjA6MCBhbmFseXNlPTB4MzoweDExMyBtZT1o\n",
       "ZXggc3VibWU9NyBwc3k9MSBwc3lfcmQ9MS4wMDowLjAwIG1peGVkX3JlZj0xIG1lX3JhbmdlPTE2\n",
       "IGNocm9tYV9tZT0xIHRyZWxsaXM9MSA4eDhkY3Q9MSBjcW09MCBkZWFkem9uZT0yMSwxMSBmYXN0\n",
       "X3Bza2lwPTEgY2hyb21hX3FwX29mZnNldD0tMiB0aHJlYWRzPTYgbG9va2FoZWFkX3RocmVhZHM9\n",
       "MSBzbGljZWRfdGhyZWFkcz0wIG5yPTAgZGVjaW1hdGU9MSBpbnRlcmxhY2VkPTAgYmx1cmF5X2Nv\n",
       "bXBhdD0wIGNvbnN0cmFpbmVkX2ludHJhPTAgYmZyYW1lcz0zIGJfcHlyYW1pZD0yIGJfYWRhcHQ9\n",
       "MSBiX2JpYXM9MCBkaXJlY3Q9MSB3ZWlnaHRiPTEgb3Blbl9nb3A9MCB3ZWlnaHRwPTIga2V5aW50\n",
       "PTI1MCBrZXlpbnRfbWluPTEwIHNjZW5lY3V0PTQwIGludHJhX3JlZnJlc2g9MCByY19sb29rYWhl\n",
       "YWQ9NDAgcmM9Y3JmIG1idHJlZT0xIGNyZj0yMy4wIHFjb21wPTAuNjAgcXBtaW49MCBxcG1heD02\n",
       "OSBxcHN0ZXA9NCBpcF9yYXRpbz0xLjQwIGFxPTE6MS4wMACAAAASG2WIhAAQ//73gb8yy18iuslx\n",
       "+ed9LKzPPORdft/nuP8wB0aF+TNms3gurtMypYRUJDs9pHbbvmjfq/Gpqp6z2Lh1pM7iU7jFbVa8\n",
       "heN9pe0uSBJ8ngje72fOq8b75JT4T5bC9khRT8UY4TrqLMd39qPgaa0PE4/MwGKi9T7OIdjSuwID\n",
       "kOnrKASplJSWKY5804KS9IZjmhTZ2RVHr6aUigWmZr9wSmO+kvQ/yDjorBzdUy2UO88B4rXGBF8J\n",
       "Lc0QXouzff/fg4v/yCDZQBGIXDGLLU5dVb5SKANxeKXb9FBwd7noodIyNHVEociCoBXyoKQmpv2H\n",
       "qqAQUNsg9pKcMjtjJxb+vo0Vsd5uLIMlSXgdTw/FikWoIb34LBhaFMgyUY50CukC8R58BtdWo5Bu\n",
       "zTyhcwtXHtdE3u+qHrWYFtVOOFUFC7CrKwdESP1dij9H4Fvn5SWEjQl/OD5OTFjLlE5wBm5icCD9\n",
       "CaqtsBn4h5VFy4NX8D5FMg6waqL4W7QFIAktNCRHTTFpFtRYtXTXxXxX3myI+Qpkl40ww+SyhYQc\n",
       "k4zyfEAMAW0UHZlYdYpMhiTCYFaa00JpyMRndFf7In4oJ39/VZg+Xn1zTe/VarOCLK41/3D8FOAn\n",
       "vJDjyP36jP3JqS1tZ+4Zh+YUO9WobyaA2ZG68ncE1U+ibp8LB5zNZfy0dx34i69B1EzfDVb+h1wG\n",
       "ajVSS4kmwtvaABiVI0vstkA2M2dLkhZSyYxB8UYJgtTUuxoIXqchNYXCFLf3Nf/nxs4SJ+MHyH+3\n",
       "z5rK+FpTfvBX94QgzaTHHZMkwjS3CxV2RUF0PAY9UII9yRuED6wW8UNzc7VOD3swT2+sSkaAnwCx\n",
       "9dEUvKQk2meRDCY5zGHS1eRQcrLOvMUuewDnJtchn58V+Sd3Kb11QoccUmJ9YYm3wdAwy2k9aJM6\n",
       "kpyOcNAAKAKrEDbVPJI9dyBzbThe2yJpAAARQstyVIMY1Pgc7hmpASIkqkDA+1tu1rf9AdnKN3Lf\n",
       "HHrwRUYnr31y5Oj3EvrE+wW122ZhxDrVDr4CsjsfjTpap5E1CY9qLZVX7dAEIJqpzNZGr14542Ha\n",
       "ZUryiPe6FjY5Ccu1tblKOYERQHkdacrC2qQUau4brWOeBenFQ2G82HxxMQMNbxsFvu/aaoFPX/YT\n",
       "uMsD3dR/7+IHEsCPRuZSv/HRRNaV3upogncVicfVvaXDKu3WGBR+8uwS0EtRRK7aIuM6/RCFCnyA\n",
       "EOlu5kHkEOkx2aYLkJYPV9v1XBp+0Kncv3c1P6/d7ETaOUyT3WjiAT69IkX6FHyh+LAoInGm99Za\n",
       "qOEGf7PsC5G58H2ptGkMTjttk1haG2z+eYzfeOS4GULj5jk4WjZsE64WEITBA+I1OiS+fLCw37It\n",
       "kVEkxWnS5PLFAeSnpoTSOyTo/ouO8P3tOqV1WB942lcG9RWhQFGMg4L9KxtaHPsM2pbqG3Ds23y+\n",
       "0hZTTVJ2inNm65fv8wBHnUXKW8HvD0itF6j7aRtjVyzYnwi1ekxU767gbj8TU8/SXnMN2SSr1fbW\n",
       "xdY4LUWh05k3RNEUNQoEt87DiR1ltg4WrSmnyyAJwH6VNiFXHIwJ4sSNpcaQ61DWk4CTBR8xbhZA\n",
       "Wye+zFcStA+MrBEm69F8kCDxyENPDps1GkGmgw5k0V0ydVuAn3QwIOvmlafOnz+OzapItWv/++Gp\n",
       "Ga+PxpLTXy30L/NyeY/CzRMQR/HXaw9mGXnfghcZkBxF9HDqwevnKyMMVFAExyqpA/e3vXgVUuJ4\n",
       "3+CZZ+oD9fpNJ7gfXV1XXPdGtW0l1D8xBcQxZrxtkxo915pzLQ3HkSkWiem8AJd2F/qL8YvE8zkT\n",
       "BLl0hmIla1/Z3lS/6IiOG306PaTkII4DGcP1WAyfBmvkQ/ditzjqMWtFYtfxnFJoG9+hjHp1IQYM\n",
       "p1vMF5MOksGb3aFcXKJJrutGMBz93799B6eDKCoY2ZxWcUnA5UbmgNaQjrEKu90ktYNuEBZXmIM5\n",
       "OkEOqIQTAti566f/9yJzrz/AuxKApvhLgdfbQSin+/0L+bjecTXXeeHq+N0sAC2aEwmOf3c99kCv\n",
       "/bRTZpmuAUVKf92f64JejQyRtdrdy8tL+i0UTRWIMnBrMUdEB5Yv7wxaPtm3PYieZM4x//K/LaXe\n",
       "de3VjnvWYgCZh/I4ZeysAV2WljaWPmn8aA3NBpxBIU3H99iNeD/VPyxhgDTHop2w5o1RwCQ3RAUh\n",
       "UqJeaTucGFpNTPshk8acI/voAAzaZF6CTGFICO6PHXnZMhqgrBQ4c5NBRJAsLmQBE9EdkjWJJ4gX\n",
       "nrWQkT7vfb2qU76x89h9121vL9KWu72WStBDFDqLq8wppmu+qslsWAEyRKxTuaI5H0aOT8jcQhvX\n",
       "x+5Vj/zrYnAwJrayBeZ+F+qgQAAA4wafh7XN3CjkiEa8pFs9Rf5b24t5DumhoGzl4JhwSAlJjMeh\n",
       "Co+R3qlgICDoYQ+eHPUp5zYRZtEw0RmFVb6FdhekvnjrzNpm6Ycv5cMp9wVSxMSprl/nd8m6/AVn\n",
       "ZRrlRDjclfgvUrS8stIksQXggtockgfJ50yXAD9ixltA17a5ZflpBFonpP1jQ4CVXSbY8p3tJ5v4\n",
       "h80gRLAWy1rBtI9u+6rZi3CPuK9IN7s4IAv5DmAtcfEbuQi08H/6doVB6U6cJo+rjbnRow122dpM\n",
       "stCrOexj57Wnkxy8+Zo8fv/ldrfd40qTlpNJSJzr/4DBohFaR0dGJDeyuFKxFPzNIMNSgX3H/Uoa\n",
       "EYsqEs8URiwgdAkgFOClJO+avn1JzeHNHHlbQ6P7YC2mJYRRp8Ds6H4a7swL+qEY30KfCzvycj3j\n",
       "EL30bHF4Ckeuj2J6eMP/W7Nt8YwOenDR6msQy6nAWswkfOQk909xT0QJd9zx/y5zq2UwRI4fO7/H\n",
       "CRyy256f7+RW831oz0p1Ru2+iz10kbNRhBorYOLtVB+VqngMegr1RD2pgbb/9jzRf7txGZlSyUJM\n",
       "/P5TVisG8ozhOeJwJb4AGYRnaLgeKAI5FTE2mkSQxEWAAVprttnW8tz3QBg2C01srSoW5utKJf5K\n",
       "qmbqQ6lRekTvKCmm2Gn3WUHe1scro5+ylcvhXyMK/PEn9vGfxhU6e5Jv/q8f3rs602RE0MVfaGJT\n",
       "C6al+9ORnmCyL6v471AW4ZbiBWIO7lKrla352my4Zvl7WpnTzAN7eE8RzIQig3KTT5FmOUP1BH9m\n",
       "dg5OHjKSQQgp7MVjOX+s9K2VeYbVCZ2dRDRgfeMV1zpIAJojAjcV1PkCakib+cjj4mdowcY5wKlB\n",
       "oqkBH/mrojIfz4I9aFyTdkv9GIgrTZobj/s0i4cdhYVTf1BQ2f42EB1sIKGl682EBFV80up7l8Bn\n",
       "u0vA6KgDokcvy1ATChVTW9wqKK6+MaOQtTQEDf82iHb+4RBlTQSN6z/11wo4EtGMqXLQTseaQKbB\n",
       "RhleaXwd9NdhkoMBU0oOLMZct/8lBXLlbzjNkbk6qhEVvi94Vc1G0JcNezyg0RWAD6Lm4WAlgaP+\n",
       "stIVG+ss/yq7ti+7aENxgPbnofU9eT2eoX1gcqPYDmkwUeCK0vYPVCgZImb5yI1bbvS63UO3/rbx\n",
       "3lRzYF1kDbngclCPDC+B2RAQdbD5fRhKPOQOGPSvuMBfRngF8/HtlsATv+DA50cMZcQg6Ke0KJrM\n",
       "eiWTZ5Sh+CYkJ42JS5xz34j6+biMlgUbeOjaD04jF/PyYhY9+qfX5P/OSbs43ftXe5vG/MyGco7E\n",
       "15O9+v3ERV79lqoLcLgSUkZcof54avM48DvgJ2oEGWHi1P5lBPHB4KEdfJgcC2u92OW+O9Uc7XCe\n",
       "uE5cSu0NVJWJKnmqb4EShyk33RzXNY5f5eUK1ZLuBaY9LCZM7bsPwAjVftW4+DiW61bHmNoO+PC4\n",
       "9ssms3pk7pY65hbcvC2ASotW3MNofhfpa4FkmZjWUasEd4eQZ1wfxK7SvBsl9xQchUeSQgui4n4A\n",
       "SEdo/uSfHW+Vl2Z9QjossVq1h8GmfQ6j2AcARe8Nt7HKcO7dP18qVYGLxvECEafZq8VMS/D+p+Rc\n",
       "7rwBiTi9xd6OAtRxMVRmNUDcXr/qdlvZoeza3oB5jUFJauX055EblVSxiJcPwz0jHVrvjLda4lnL\n",
       "Hb1UdiJhuA6HkUU5gq4Wto/6ZbLXu/rJUuM+fHxt7SIG7Q0gNuRpZDga1tiFzou8IO+J6996GRsX\n",
       "yQ78gJLD9ZepZUP/Ru0RC0SM7Gd/BvuKzbegVObeiTR2/hOEK0GGMipyBv9ThSZYTrI+uZfEzhl+\n",
       "EtU2iUur57tJ8ZUnUcOdqFJWsc65aDyXFzLvNQ7ki3NGTdWqt1mC9tHFMxQv2rBD6sL/ki8B2j10\n",
       "bRQueYxXsGBhFltfknl+ezFAYkTecAuw9E/lHzirXYH27SJdLOeMyJ6XYzAMhjm180OJUVRtQa64\n",
       "2WX/dwmuHfDNGytjYKP/1epcCeCB35t+T13mADiD3dkceVIFYnRNThhznkLfqFIm7cicDbFFfSiU\n",
       "eNy5f9gI693H+P808KRGSSjttzgi9MwYUVoVLk3hdaPmPqPb6DRPymmlOYSUlmBEUr8PJkSRcpPI\n",
       "n7aLFivQIWY0pe2kKLg0vsNpDSbKl9rmiisfq6KExCUcyR4JLFrqG3kkVx9J/Zobl1sLuGQMdEFf\n",
       "wYsSWt9z0Akzd0gksKv52FT/ZtM9BcK++ZxUeeeEhuI5wDSBmkjQtoGZO/hgI1mek7lLgCAnZFJV\n",
       "v0ghAeoT/xoeT6kGSfWJF2Yruo+DQVoUlvTwSu+JyGftQzYDmoOrH0XOaIbQD5DJg0tYY/GnS1Rl\n",
       "E7xdEKmYdSYWhh4hjLJPRldojDpm0iuecDSQ/BvwmJW5mVzIo7/oPdIpBR9oPtWilTe0foHlx3g2\n",
       "HBT7DNvnSEd0ClJwtvnWwFIbzmOq+xUelNsyXL/hRkhHTSMGYkkvyVYdq3Vl1OkZxa0/anve7ZMv\n",
       "RMWI53b1hxqwnNkohEmI59Mq+Obdfc/W7Rw4XdF5xrY65v5jmyoFVOtaDeqqbmJ/rgSoyZ+yL7QK\n",
       "cTbUp2/rJRBBHf34z+1Q7Hh+iaAexSmY7c4VCTil4w9m+pJY3BISjvdiFtZ1AC/HpsPZdzWOBaoY\n",
       "DKBxkhhmfw9jP/UZI0Q/BKJhhBdPufcVnuCZiun0U6Anffyyzkr7PFIr9INCcSxULwt/AAVPTEpC\n",
       "afq+cZBwUC9Jz21KlqWR7dMz7dTRz3IXQWCXiR+Hqb/8QD1XWN7feIW9MV9evNCFXFJXOZwTiBCa\n",
       "BFIx1tTjTGWV4emTZd+sFZg4JrKQGaKWYKUYzmUzlTy8LDCHCKXlkJksdoAko6F8Xf+5H8iutjyA\n",
       "xR6w9QmW9R+cQlvAs7QLiFhYVKZzq2MlAZMj4OFK+r5Tj6RIYQqlOFijMeDc/Td6vtVxxNooF0tG\n",
       "3RJfa5m6s8awwz8dYFsRVgz0e1hNUsZSRQQsghHcqRNdjBKoj+xkSUuIl4uygysHX1DbML683zrg\n",
       "ZMmpCzMuqY5aBo5RAj62s1Us/mFkGotH063vRo9K8UmLCDCFCfpWj6u1mh4FCq6NfiJybcdV0uWe\n",
       "ujJ6AkkIosZEMYWLhirV/8XgRoyK7MiyCVNXYF6wLGNIIoU6shU8r5d+GtJEC+hd6ZUBkzmPnq3t\n",
       "dV3Ke2iWNHFCTJKf2nzAEnSzhal+1ISGkVNm+n0IS/5vQ7YSXGifD2xlb7zqnSdcMwZqG4IsKlAt\n",
       "6yBh9vWdNPURYQIsXzPkA++OdFDmWrSndpZUidyQ5z0u+6lx3mOjOJ0Wuey7y1TtGHb4dIVMuy6T\n",
       "eG6gqa0qg44LEZGwWic5iKsBzC5gD0fPcrA9GmfZF+gsEAg31m/GlsdfQ+8O/kobTx9DVqSP1MVk\n",
       "yvixqovTCUmersp+xkfU/z6oxP3JdIJVNkxU8239Pq0zsbgbDaBTErfcknKZTmPvIAlLdBXUsM4q\n",
       "MKMueR8aMTlRVWy9atEJHFcDQPQWuzZ49tJpni0FAXAGGaMtqZUBwIw00V793mEuvCvStwsxiiAD\n",
       "Pepe52zHhIAACtYi1NhfM1P00VCtTF/hWS/ZOXH53OBtzhD6Bk78hAYh+Go+trdwgytqmwO1Vqdv\n",
       "VUwZOLywdrwN9fDafRvK2ijGHybQjYcTIlFxVY4ts0apdGtWF4CK50iIKUwUWohlU2DJYjXyAAC5\n",
       "gQAAA9tBmiFsQR/+tSvAC1tAABCVuZG/uF1Gid7REkoslMv9VL+cgDwlN0oX6A2i3JI+6LkAbMbT\n",
       "DjwkavS3hgVIEFFi7r7Ekr2ERuYFt6L4fW1wnmvTOMMZKWP9+bPVXwIMb88thZL9tgJmNTzEsW3U\n",
       "WKjgdCr+U87tsLdvPEPFkKcnBD5tRrDVy43mGqjJrUI77pao4Q+V07AV9RXjrMZHuyWk4Ey2fQCc\n",
       "cEjZZVWe8uSGWYDH25Ilm9aEwaBEsnKpWPTM/ENe2ooqv8cEIgbyKTr3AAarAhRRIJTDFAMsHhQI\n",
       "FAOefgiOPU+4+n+EhO6GnB3LrICl6pdOm+hDFNNMzR7mnpFaIKSez7ZYXJTM04L2iH613JYoW9XM\n",
       "kLWX8CAvMSnz1D+kh2M6JjxRB+MEOtBNxs++0X/8ULzG8RaSpQ8RWmGQz8gLtNH+Da4Hk1TGMvDD\n",
       "spNIA6AgA0Flgpez3RnJiHTIMJ7gt6mntJkvZfs5wIw0i+yPX+zFe4Zckf8UppXINd4Yy49ujYpT\n",
       "Q1JJ+IcJLaFAeMdFHdEwqatg+OJGQEhjHfx/1iv6HDvUU6NR2ZCazFPz4pGJ5RAUpnXbhj/k/kiN\n",
       "h8Zv78OnvPs/7GChayuNkOdBm/02n0vyZcMSZYYvUdyFENuXnyAhEsVuMnWwb3FELw35EHdo9KFm\n",
       "eIzfeSqjIHFraexu5HIV5IyJ+GE4cvhJLvBXDMXgDlKPXZFZi4AbzC8rDhfmSXXjeGexv0dZshZr\n",
       "IQdC9PH11LKltu/woQP8Yns8sFbvkb40sveuqBvt6wHWyx2fNimte1xvKPUKU99LIqWBRU+LBvz+\n",
       "UaaqkCYSAiv56lkJzekJ0Sv09upHTOKtWXglJXAA3guk4TVeWRFzfVVZsYBP8yE8lGvoe0IKPWCH\n",
       "We9IuMwPGs1VZyuKCCwKEUv5jjIeAS2SqVsAMZFSfMnG51OzWEYafxYL1hhVesL2CAT4eaV7OWGu\n",
       "MiBOMH8Vmyb4W4WKODff+wfdYSPZ1mrHU+X5z/vxU/QxAWRXGwsNFhUpFA4La2Kw6oteWcLuICoV\n",
       "eOnIKcaBlMP8f9HCJH1h0jFY13dNU1ZrHN3Ew1O8+nuV9BPavmVCYl5NBZuVzt59LTUvnGTSgqiE\n",
       "m7rWR7yJvWX3C6RMPPFhJniehZn+Y63fqBUZTeO3EHaw230klDDTApi9jsN4hIdEHV5No6TvWJjg\n",
       "80h+Nu3+3KiV22WCtFxhJntu/jrndIbltw51DEkzM31sXAeMbg+X3szJ2Gq99/gAHT+8epz87RJw\n",
       "+7ZurEZsm2+rjjh4UYt68ZTghbKG2qIAAARjQZpEPCGTKYQR//61K8ZlZAA7S9MlwUOmUWhtHevu\n",
       "+XtpE4sv+jZ+T1gXhZgOZjs8wmPmet8lx1HMAuNJ12ej72OiykvltxIyStb5kUPO1ebx4V4WpyBk\n",
       "FHrIjaT1QRsjVwJAHQeK/TleG6Nar8otiqJg/3Al80VG1U7P0f/s1flt486mlIVW+uct+5Vm25Il\n",
       "XJzkpEGw3HZNXuShFpLjvHCvKZw8lxlvA4OTrmfLgmeaIS0hMonL5mbkmhf4nbo383+Ocymn5284\n",
       "XbMZK+09vz3wY/nRikOBwgfOEHqG4qVMwmoU4GrPIwXEpBIut9sUztbZL1yavxCUe/g084xq9SjM\n",
       "rulJlIHP2yG9WKcPnu8lfRyznJwxEG977nRYxa6oSJiE/fkJOiYn5xlqT6MYB594DvI77KzqzKXz\n",
       "JCMsyaKezjOgNU0PlvdnSD8hnjktIWvzQezOLiqvfSx0PGm+dFz1KS8pP/gdOZMoheU9IZ5qaWLp\n",
       "mPCUsSMBSjst70fU01xGmqMf3D1x8SnGyscnb9g6/Ube6RefCe2Myfxur6uLu8p1K+QjhMgpJJLB\n",
       "NJnnSXs48v0xR4tfO4OUeezw5nHu1WgeLtqi4PuHtAq3V8X87ugcyPpLA5SnUhKTr6n7fQzKl47W\n",
       "UP68FqIE0xRE1V8w+LmqksRVaEfOjWUgCnKocjB2n57bfFGESAuMEfkPbcqJPPpRQSvb1KvpqdI1\n",
       "qY1SthGiuVdmKO5R0Cif+kYGwYopVpvqkyk3WqnTBlJfu5b+G7uCu2O586RQdwMxAMIxP/xLNmvi\n",
       "lyWp5YE5eKXGz7ECJt0yQQO1HLjoXk+jX1/zpYOxuXP2HeEW/oS14OlWuDrT5YVhZUoEfztAUctT\n",
       "rXNE6rOIRLNj6teLM6q026h03yvEhDGAd3P10I/NoqOPAv3RPIrEfLzg7qrUCEDO/QcPfYmR5luL\n",
       "EcJukyuDBb10L9FM8gMLwNCeL/xcw+WH/5cAX/Xe6k90y7n9xeHzJhjFhHZYHR/nFnR0JbpNk/OL\n",
       "FoIvE32iIGKKPuPX6i7xpzpL4XdoAovHAgGynZqQAvFLPbZG9AW9Th84zPEYziPgD1//5SChSrc/\n",
       "9yquh/E5qtdg/KH35nCB19dmJ8FbH8zdCAnX/dl4y8Ormj9TxN2JX34pBHQ3pmpvb+gfizWsl9PB\n",
       "ZJnBTW6ZtAdh3Jc2VoOQauQYJbylmGjku0N9slk9jD+Iwrzd3WQMmzq5Qz5vVLRngfrTz8wVLqVQ\n",
       "3CjLqOsOZYAnPm+CSAaKKx8mNuMNlgHxfepZfi7vBcCB9ZLJQuSG5CXM50N4pxEwUmHpDMUW/sBg\n",
       "kZI+Axmvj02cYI6UHDNt0MN3gOJXu7LnYaV4OHo4jNmoUstgz3VgCiEsQS6A4ARtH1n25v5LvFSC\n",
       "UXFeAtH7msbT/c94mqnrTaBJBBZv6xYByqJXkcjCP6p5iHOQVB3bQ4Ih5t/fIOM7xCfVtj41G2pT\n",
       "N3EB3IngSCMpaQAAAWJBnmJqU8N/BwvlYPACas4cV6QOrQMCPV9jjhvZ88a+XWq9tW9LEgjlrMqs\n",
       "lxR+VmMOZbsoEl3AVCVbxtTGEPDZn07hTE6T5YDt3oXFRTWCMGwbkE4vaZm5xVd9qDYmvLlvK8b4\n",
       "CCveMDS3etLZPoNCImFYQnlLprlG91CfQO+09+J5/oku1kg94CX3jCRtXinEHBywn7Fxdxov36oS\n",
       "P87STYbTQMPuGQ6BkMFF1RGFotGKxKLSzW9j0z+c1jW7ARKlLBUspXI0tkYCV4Svr2B1EIJ+SxFx\n",
       "ciZ09RjZdy40XcP5CNjOhCYTM5gnIvpZ6O/GFA9ObCrdO+ktJ8nOtM84ByYMvTvdkcaK404FdDYs\n",
       "D5LXPjW5Ta50se0iQlGbsqV73ZDtmDL6OsM7MbZPQBJP1M7D33/TPElJlBDiaM3UTPVZaaJVahUz\n",
       "Xol6BPkARlM3+EkBP9rHWK3bhLT0sFrKTLgAAAEHAZ6DakN/BrjSyADai9KcdpkppmP9FZzzZBvh\n",
       "RmCt+fNESG7VYpOwwPZUaHexOhkJV/LbcanHkMHoKWzmClLZ1Wdvz6dGPSQYZ1QzxdL2FzGjB6qy\n",
       "fguQkOOw3YCjgSjiSDGa4cKnsWpmqZJGsWsrnh52XOPHje3TJXIrxqQDVuY5unqa6F4zZu9TtuUm\n",
       "rumDxuyjdK6um7hILmBhoATmzQccpxPZWPFlao1ti/2kPwaKrMb4gFyOac0lLUucM6/+ToOmZRw4\n",
       "QtVn27CUFBhuSzdXzzOfKYUGek59eJcY4H5GGG+hhg24AHbO8uyyo5HWAhDtCV6/B5ZITqeTpdGW\n",
       "YzmbrdFyB6UAAAPFQZqISahBaJlMCCP//rUr3izAAAWqRrFzeX984DW+gAFsKGUBBZL6E6iPpP1l\n",
       "uERZttRivlFfpQUwSpN+1aFBkN9lfh8odBCR47e/b4lx0Y4CbMIiPUYF7z8Sqk9xaNbpIBgIjMhM\n",
       "taBOh+m96xj2PcR4WJEimUNTon1DT/3Hg6xd4/ywfh1kHudS1/NCDz+9yljD0LhPFhNc+SypE7JN\n",
       "z7/CiLlKJY+FEl7uVhv0bxdl0BI4FivENi8cbkoksXlxa59BanJJTdbzseO9GHqZVzbQjWnxP6g0\n",
       "oChPAmXUjdYUo7L2Fn3zV4uWpa0t9Mf8YXP6cdMIOjQqNIzhue2DQr0aOmOQvpFvzA55rq0XjjIH\n",
       "9DLGbP9XjkMTIUoAy2tOHRrC4b8ip0INTM7x6Kd3Tw5ch+coJStJY+FUM3YAO0UGCUK3MGP5KEoq\n",
       "X4vP+HBzUAH9qZr01Ftja5DlxjIQYymifKZmwhBT56Ch29LedYYkyzhafsZfEtVBq8L6Q0u4lfXm\n",
       "DJyrhOo3ruf/pSnz6XmAwNo+7oV1cB5+lIbNb0la6eJiKNWdhmm42ppOJJAM+3eLwBDeOjiKDi6F\n",
       "bng2GfdDdzMg4jHodVeOjCdQ+qWQ2+nIC6LK2Ms+jh198dzncWeGJonQSHYPj1W0xz/s0To9P+uy\n",
       "TbS94zydfyrNeo1X5IE9CvsOlHZOon3EeByqiTOUw9llT4VM3RHu6KOHJEzfGnZMfo1xpwHxJNTj\n",
       "CUKnyfUY8483Q2RE8rM97EtwuPQkFAERy2UjlAEvQf9Uw8GIKcyCrn1G/204Zz+HTOfuEtxtbNqj\n",
       "tfJYn9UjPqYa/8t5nGHP2A8Jx46VXmT+/vwN7D47PbtFrObTsXmvBORAG3Ik8vXF+xi/a/hggEBj\n",
       "9BuHUKVObYUr36t+waftcZOfj/0knwmQQO2UBHJnQYaO7fKFTYUYpeK9kt7xO48HSLmWer70T5Qw\n",
       "1SgO0P3+hxrbmcKFSMyggkH8/v4YOAWdWO+DeswAMJ3fu4PI9WJpuJhVe04SHBI3Uv1tt/jTEeEI\n",
       "0Q04RiGVbIGv6mEZtY5eAMcAOtoutWTUxgD9eRfSZ29RacJzvnokKSY+v5OOnOXvpmG/UGLuAAaY\n",
       "s1mgSL9rhD+o7ecao//Oad2HFpjCFD4iO2VjlVLPyvJdbSfv06McSNQYLlkbgUUOtDv8O8wnIKD/\n",
       "CjArUuqvBjvNONSDiOOtha7mP/nI0aUwzU7gLP7FAD4KVu8rMQRbkDWVPFYeyci9TjPe47ljLDbS\n",
       "/koA5akd0ekAAAFLQZ6mRREsO/8Fg3W67ACEC74IAzSPb4JrCa+bAwd8RdImcLZps7NfUZh1SOeV\n",
       "4uDagGr2QVuAlKRWvqVzDms3TeZxGn2aFr9LsGYYlzXmetsmH2DwBFJXINFI8DsSEn+6vw31b8vA\n",
       "PHPxje74aGm3d1OmWd9W4hctSeealD0HpYRoVAAmjH1IYtnd0ls/4PVnm3VWusBrdTeWrNB4wZCt\n",
       "TCIp7i2HHZ6DW2/024+pc75NfDdnKZTSfd5XSCFgU2rcITinTODcA3xjXu8J3CzE3cS+3JrjHUGe\n",
       "/mpOPV5TZv+nuoUE1r+X06qHGaGxr6AnPe7E1CP7J1lGinnrwFz0UK1jLnJumIrUeAyOFcklsz/T\n",
       "6Z/JO563Ss07dILVkTQ3QzNw8TXM3K3POs8wIyyjBTeEuT6whAapswkOzbnyvDlFmAMpnucL+SWT\n",
       "0wAAAPMBnsV0Q38HRLdkAG1XJdYlyKRakuqN0i/iBxxh2Zx7gS/YxYFtwRADPSlybyzejU6t7hvL\n",
       "cGIPWjZwKQxKLPjaScFPxYnxX7c7cH7L9+5WOT9aLiXoDA15aElWfVmB0D9fHZLquEBywObrRMbO\n",
       "fTn4wUE3jwSvraKRB1nMk5cMaSNqy2181PaZ7HQ9LJGpe1/fgj9FmQbp4Tuam81DOXqoivjY1Lph\n",
       "A3Qc4EugKwwpQfYi8qkjhu4F1HuEWNgI312ea9g/BwwLvfsKGlojKR6lLLRyEKtSY3qJUmLKa+1r\n",
       "91EjYSA8A4BpP6oeX3wbE/EfBF0AAADaAZ7HakN/B0s8IgBCns/xZiMgTGmCAYTiNLd7qMjkzX8U\n",
       "RIh2jZnVvR5cn0f+u57Fuv+f6cxgOSSHgD3uXDfhDkM2afblYT8XNpAAmwx5sm9aiIq7xowMiqi/\n",
       "uyTIsoTxQoJFLXsElt1Qm60n9arnqVu5YCG8PAawMupibXnWF9OySt2ul5yudrChFVfwK+jHLe/u\n",
       "HeUVv/y7ihFmCJw1/c08zoKFLZetbOPUDhq8zb7U5/3Z03Ayes9Qx9uPPetCRRAM9Y4bT72B1bot\n",
       "kxdmMXv2Wu49G82QOqAAAANOQZrMSahBbJlMCCH//qpXyykPhAvzAAulFqk0rvprq80Uwm+070Yt\n",
       "9CFhOz8HIIfAeeNaZRdP2H8JCaMIP/1CACfR3U8TaugmXM/Wwrjvz012EnC2j34paGP3cMZpdK9k\n",
       "FdbqJOwfkq2sfMr8e1g2EarPBXXq7U62eH/EmjX7BJfGXI42RE/dpdBtWjsLckOJdBf1uuo+Lubt\n",
       "escpq4xhqDwhdptSDUlYA5W8adHq8lV+zrZXhbi1kc9Is+1lXCw6775ualFLkHj6QKz3G2TXvxd+\n",
       "jQ1HpVK6s8svgAVHmA+JzDpgbp1U1md0A6HpgxVBYQndMWV9bD24fT1DfYd74zn78974xGYGzy2J\n",
       "fhbiqutdd6xIuCgP71ai+bqB/VFIk3vJRZbMMp2nizMjSsCUzN8R8oAiA6iFeTt6sJwXlyNpraNP\n",
       "WSpdeFXH3UMIPmJjzTAgf5CjrS0IDOHqTFHLiRu084Ky8Yh5HbYdTVDw+4q8f0j5MdiVUO3D6c5Q\n",
       "CSgfOD7WDttKSJj/LxFFA7VFZ03Rt7vAp4ifliPkcxmSdgr+4o7reQcGKeP1rpDGEaugSK12vghY\n",
       "9ZdOKTTEpVzdw1JRrPA4eKkh+GZ9esbhefikBSlXwsddIGNbLeceRASBzdM6GsN4iwr0wRtf3iI5\n",
       "nA/YmI1jB4mRXzC0ni7bl8IqW2lMNeoi3ZbzR7IEltiFHHlEPBf2nft/ZwrbQGfUb41yMbVwXsCj\n",
       "k971bOEz72FnfzjK10PFQc8/54ePQ/hfkHk99RHG8zlTQ26m5UPSeRXJulYsd0MRgXWnT/LzglHm\n",
       "HLL1rvUSNH9ZbhaZ//L2WKejacFXcZmaxF0nid8w9ZtR4F9Xp2/brWsNCtD0ZeImca0sMkHfVleS\n",
       "9JLA87pAXSZwwHH0qPe6GNKk8Jc80WCUah0tPidjf2LBGqjju7f4Zz/17iymZnZMj+lz10ktiLlX\n",
       "3ZNnZRjrV+W8yJyDx+Ojr5sNFDwFFeJM9lhb6WnGdQHk88TyqV7BpRcS6EhuVLTp+dNVUULKwlWD\n",
       "nHgVuCf5n1dKAXecoGb3+seJm2z4NZwiZqHlgZxz5lRSpspxKwoaIJ1FtzPIbf/+e/l6ERAVgEV1\n",
       "VAKlYKgbVMyAAAABIkGe6kUVLDv/BRpnTojMzjxtdgBBgD3TZ0VqsN0+y6bTZGgI63Gc5mx7EDEp\n",
       "Ts6XBeFl8jb1SKybV/g1yqRge/+RHXuZpnBqUwXC7C38FyDcSt/SOapAUhrY8zflAzGYu1oPYZjG\n",
       "r+jHdnehe/Cd305/nz757Bv+Gvf5dlf2zIdF5Cd0jKmpTPcJm2jcipz0+WH9hVzGq3fkfAtuVoFb\n",
       "Xr/SlvLmn/rlDlKXg0srhum0LOQpxQ98aMdi/GQF4COIYJ3ZoYmAndjcyLSJEP1P/0dmLnx38Xw7\n",
       "8uYcWNP1h25ffApo85wz/91CQvL6ebVRpfnHbgCuxI2rQRhnZT1uyrWgMps/sL0k2QvhB6kIwsPo\n",
       "4fGH2gyY/Xt8UEFEdagkaHcRAAAAmQGfCXRDfwdKa0QAHXF6U/LVh1zdG6AG/sPg6MxqAT2/gnB8\n",
       "npNHJQWr85Zat7Du7T0aCwFC8oy2wEvmgjrkYNh0pxGTw2vzNjw1neYN9kuZYyA3OFuktY7lI3eM\n",
       "okujj6jB0cQsdbcKrwezG6UVfjNtQAeuAUBoCmH/FcgryMUkY/RxSciIFVNqRj8wel9F9foHVXEg\n",
       "q3KIkAAAAJ0BnwtqQ38GrOCwtd+4gA1s4+10fNERYrhCzN0HY0oKDRbcGncujVwOvehjI43lSN2n\n",
       "x27HZVWrTew8VixI1VLeRTWMTLrsZrw9wVj5WzWlHePUif3ywO+J8VmamRa6BoDLAR4FlfF9SUTZ\n",
       "/WpQoylIUGxvzzfyCeDGBvtUDGugDUj93LGlvRLN7/ka8GSYaUKO66CaAYht8HZpYQI4AAACUUGb\n",
       "D0moQWyZTAgh//6qV4UMwAD+kUu07sH2ZTfIifG3XNG14geUwLerVrlhHrhakrNLCyfOwcMoVeTM\n",
       "qyb8YXjL3xcW4AIFqRSbu8TGyGHv4S4fdfQOk0sIDdZIzbwFNN4PaMh5ttYU5UQxjDQIspewt8Qq\n",
       "xn/6sGI/bL9Dfm1XhM+E/7iYjSEP3KFRL83kwjwKhH87mDhvT8q6din4wIgmIpXlu/q/ZXuh/k15\n",
       "Cw8IpWCJUSS/sfJ1cY90dhAehXpZcPtvxt9gvsQcl0XIM0pConFDcv0DOPvuPIi/WNgWptRwbKvW\n",
       "gZfZiqQykpQQ5DTf3+apkBDAtjh1UpKqxVSjdCVx4A0cQDVnseBeZUXOa4EfhJYngbY0kIGAyl6r\n",
       "tZBmLyJ9E9qqFREmY/VIFgTmCMxstyn9BZ9TdaOmdN4NaQqfrAsb1R126cfktU2vUD48eeyJ6Zzv\n",
       "Dw2H/E8DAvBOGeNjd2AmzCloOGTue+rUEigY1HXYRdcfFqvCLay170I6VTq/6jY/v+1/hEM8M61t\n",
       "/pJ/DCcJqO5jqwHy/yy8UH2Lk7C8l2Py/7EmasbvQ8zuPe+xxPcO8l5SoVuGkNdGQ5AQeoLDcq82\n",
       "pXaXJsad7hMs1mlV265dF4gOEev+EWU6qWD97exe3nhviH4MHTKYkcsSviD1yTgLDrf21N5pbzko\n",
       "WuCPPn2bTXkkRJpeiij6wdaBWpQTJQN7rbKefkXeQvHOud4zT5FcqNXCrFBrSuNqI8RhCyJtBeuJ\n",
       "4Q8/K2f7qx8qubgKKQhK6YhIv78tAAAApkGfLUUVLDf/BqlEVzN3cKV3l1AB+cO56eQvzGQuX/82\n",
       "3k48hHw62dKEif4SQCTdH5KWXqA/pozqk812hYhnESgYf5JHOvsrOGVVO1e4nLcxuSBiy1hR0ob4\n",
       "hqB9wq+fEfPf1l5JcsnUOxO/gaqrevgJaw38ZWxt9GPkKmd3/fAqE0JsfCXuW1bb95S7JWPZyGAn\n",
       "59XWxDKaom4MMly2eAK/bGvU7UEAAADdAZ9OakN/BrrbDMJAAhvy7avMuoBLc6/tY5z/kjEM4dbt\n",
       "cXuHXbXud02sWSwcH3pr8AlnFzvy3xB6qCPybsdgrTRsEfDIoXuYpFfDDc6Ixc2HcswjomLVHf+M\n",
       "IwhLrpa/x31/uHl4M+4336NBYEkryj6Lakm3XIahc3b+ZX84n9VQrQop6Mi/BvoElH6154KjKv/P\n",
       "mlaeEo+4jg6ePpRQGmvUmPPlqRZqiQ5ql6hpafQwuYAAm1Hd9uZAcqSXSV9HzVvCjkDSkBdZoqE+\n",
       "yOuaawLObiszYGkbNz44EnEAAAGDQZtTSahBbJlMCG///qeOH1/osKu3EAGxud42g9LvMgHnxceh\n",
       "HEi/icIaT1kCY0j88DdPN8/cyOS8KlBDf7qQ818Idvmjf9lfCGLQHQySxFavfzsr2qLWgDszUvRC\n",
       "LJwVP9u5+seYA0SNr6kC+3A9UhfMUqHFOKKXYUjb8ZcP7tTvenVvtIAkkjQvr4TrA8xpLIoJRAe5\n",
       "S2w8UmfJTEJDkOA2FtBD2+56GZjoORo1xfgk/FVzQ1F27+60dE1smX+P+z2iYkFNys54fpDMfDSJ\n",
       "5IKpIqlpEsfYFa2H9K4CJd4xqQClNyKRiqT/S1IEnBdYkPSd9hP1LfYaI25DrjDKY4uARrsRQlge\n",
       "/sCTz6sx4qHQBH/AQviXx42ZUwDHftSHcZjnJYnQwydylR+jRgAO52F49ArDTfY4H0nOXCs3Heto\n",
       "hGbeO+6Dm/hDaK5P2+9hb/co75u/XrBWyMTeDL3jruOox0xHnlejQloNsKAyGd+zDcibXVcmf/An\n",
       "w0Evt4xKagTlAAABJkGfcUUVLDv/BR2rAEwrwAL6aGHkSv2AXD3COz2Ldf9VeBSmQC5cNc7FPZPV\n",
       "RoDq3miDuqvkWSR8qMdgaYsoz6NxVHu2bLWbBAZUHCUqGlB2o6XEF3WpzcOuPb2LwkGvllFn1pmd\n",
       "Bo9QID4CZHxff/4KeXHPxvK02HR9LYRiR1m/DUKkyWYIfODmWPRu1U+JQD0EByWgxM46qG4H8rSD\n",
       "s04+n80IaumlXdD3yAc+jNXDhAfEZqB4HvJTlxzIvMBR86v4F3BQ+rar7pZGKvmQSub9Hp/icF4l\n",
       "bg3frP+so8R2d+dGR6e52Wl1mPI89XdTGI4zjQ0UQ9ar9XYB13S2Eu3WqogCdJhL22Da++E+WJBm\n",
       "KZ1niJK0IGUqvDCzp1UglDaoqefZgAAAALQBn5B0Q38GrR05GLiIb+3EAGyaqsPxg7kHYQDd22G6\n",
       "A4yFYc7jxaZmekOvs78jTXWNrv8bCmQDZHCIjFNenN09z0g7P5AaYq76xnWfVEoNCXqtnWNRt2JK\n",
       "NVPb9LLjODjETzF2qKrHRhomF9RcU0U94Ev86ia6SWskVNQAAAgT5VQlja0j1eUojALvGV7vnJDb\n",
       "yMhW6dUIxan8Wwi+xJ6QBkZwOQL582Xp/VzKobnfwK16EbMAAACkAZ+SakN/Bq0kh96NxABsgAIx\n",
       "UhGwG44Fqt9sIyeLGXFkq6uH7K9RGSD494R9zlumGqjfE1Pp/XtioiB0aVK6FSd517G8y6UXBuk/\n",
       "62UuZS/1xBEsggnzchQym/WYpCterOmIXBRfxDAEt9EngvI9EEPoWFgd3OcBDuWq3ETPVR/7vjeJ\n",
       "d5EdFIy9O68R5b/mzAF2v7PdJheqdKooLI4L4Em+DFgAAAQGbW9vdgAAAGxtdmhkAAAAAAAAAAAA\n",
       "AAAAAAAD6AAAB9AAAQAAAQAAAAAAAAAAAAAAAAEAAAAAAAAAAAAAAAAAAAABAAAAAAAAAAAAAAAA\n",
       "AABAAAAAAAAAAAAAAAAAAAAAAAAAAAAAAAAAAAAAAAAAAgAAAzB0cmFrAAAAXHRraGQAAAADAAAA\n",
       "AAAAAAAAAAABAAAAAAAAB9AAAAAAAAAAAAAAAAAAAAAAAAEAAAAAAAAAAAAAAAAAAAABAAAAAAAA\n",
       "AAAAAAAAAABAAAAAAbAAAAEgAAAAAAAkZWR0cwAAABxlbHN0AAAAAAAAAAEAAAfQAAAIAAABAAAA\n",
       "AAKobWRpYQAAACBtZGhkAAAAAAAAAAAAAAAAAAAoAAAAUABVxAAAAAAALWhkbHIAAAAAAAAAAHZp\n",
       "ZGUAAAAAAAAAAAAAAABWaWRlb0hhbmRsZXIAAAACU21pbmYAAAAUdm1oZAAAAAEAAAAAAAAAAAAA\n",
       "ACRkaW5mAAAAHGRyZWYAAAAAAAAAAQAAAAx1cmwgAAAAAQAAAhNzdGJsAAAAs3N0c2QAAAAAAAAA\n",
       "AQAAAKNhdmMxAAAAAAAAAAEAAAAAAAAAAAAAAAAAAAAAAbABIABIAAAASAAAAAAAAAABAAAAAAAA\n",
       "AAAAAAAAAAAAAAAAAAAAAAAAAAAAAAAAAAAAGP//AAAAMWF2Y0MBZAAV/+EAGGdkABWs2UGwloQA\n",
       "AAMABAAAAwBQPFi2WAEABmjr48siwAAAABx1dWlka2hA8l8kT8W6OaUbzwMj8wAAAAAAAAAYc3R0\n",
       "cwAAAAAAAAABAAAAFAAABAAAAAAUc3RzcwAAAAAAAAABAAAAAQAAAJhjdHRzAAAAAAAAABEAAAAC\n",
       "AAAIAAAAAAEAABAAAAAAAgAABAAAAAABAAAUAAAAAAEAAAgAAAAAAQAAAAAAAAABAAAEAAAAAAEA\n",
       "ABQAAAAAAQAACAAAAAABAAAAAAAAAAEAAAQAAAAAAQAAEAAAAAACAAAEAAAAAAEAABQAAAAAAQAA\n",
       "CAAAAAABAAAAAAAAAAEAAAQAAAAAHHN0c2MAAAAAAAAAAQAAAAEAAAAUAAAAAQAAAGRzdHN6AAAA\n",
       "AAAAAAAAAAAUAAAUwwAAA98AAARnAAABZgAAAQsAAAPJAAABTwAAAPcAAADeAAADUgAAASYAAACd\n",
       "AAAAoQAAAlUAAACqAAAA4QAAAYcAAAEqAAAAuAAAAKgAAAAUc3RjbwAAAAAAAAABAAAALAAAAGJ1\n",
       "ZHRhAAAAWm1ldGEAAAAAAAAAIWhkbHIAAAAAAAAAAG1kaXJhcHBsAAAAAAAAAAAAAAAALWlsc3QA\n",
       "AAAlqXRvbwAAAB1kYXRhAAAAAQAAAABMYXZmNTguMzMuMTAw\n",
       "\">\n",
       "  Your browser does not support the video tag.\n",
       "</video>"
      ],
      "text/plain": [
       "<IPython.core.display.HTML object>"
      ]
     },
     "execution_count": 14,
     "metadata": {},
     "output_type": "execute_result"
    }
   ],
   "source": [
    "# Display the video.\n",
    "HTML(anim.to_html5_video())"
   ]
  },
  {
   "cell_type": "markdown",
   "metadata": {},
   "source": [
    "---\n",
    "\n",
    "###### The cell below loads the style of the notebook."
   ]
  },
  {
   "cell_type": "code",
   "execution_count": 15,
   "metadata": {},
   "outputs": [
    {
     "data": {
      "text/html": [
       "<link href='http://fonts.googleapis.com/css?family=Alegreya+Sans:100,300,400,500,700,800,900,100italic,300italic,400italic,500italic,700italic,800italic,900italic' rel='stylesheet' type='text/css'>\n",
       "<link href='http://fonts.googleapis.com/css?family=Arvo:400,700,400italic' rel='stylesheet' type='text/css'>\n",
       "<link href='http://fonts.googleapis.com/css?family=PT+Mono' rel='stylesheet' type='text/css'>\n",
       "<link href='http://fonts.googleapis.com/css?family=Shadows+Into+Light' rel='stylesheet' type='text/css'>\n",
       "<link href='http://fonts.googleapis.com/css?family=Nixie+One' rel='stylesheet' type='text/css'>\n",
       "<link href='https://fonts.googleapis.com/css?family=Source+Code+Pro' rel='stylesheet' type='text/css'>\n",
       "<style>\n",
       "\n",
       "@font-face {\n",
       "    font-family: \"Computer Modern\";\n",
       "    src: url('http://mirrors.ctan.org/fonts/cm-unicode/fonts/otf/cmunss.otf');\n",
       "}\n",
       "\n",
       "#notebook_panel { /* main background */\n",
       "    background: rgb(245,245,245);\n",
       "}\n",
       "\n",
       "div.cell { /* set cell width */\n",
       "    width: 750px;\n",
       "}\n",
       "\n",
       "div #notebook { /* centre the content */\n",
       "    background: #fff; /* white background for content */\n",
       "    width: 1000px;\n",
       "    margin: auto;\n",
       "    padding-left: 0em;\n",
       "}\n",
       "\n",
       "#notebook li { /* More space between bullet points */\n",
       "    margin-top:0.8em;\n",
       "}\n",
       "\n",
       "/* draw border around running cells */\n",
       "div.cell.border-box-sizing.code_cell.running { \n",
       "    border: 1px solid #111;\n",
       "}\n",
       "\n",
       "/* Put a solid color box around each cell and its output, visually linking them*/\n",
       "div.cell.code_cell {\n",
       "    background-color: rgb(256,256,256); \n",
       "    border-radius: 0px; \n",
       "    padding: 0.5em;\n",
       "    margin-left:1em;\n",
       "    margin-top: 1em;\n",
       "}\n",
       "\n",
       "div.text_cell_render{\n",
       "    font-family: 'Alegreya Sans' sans-serif;\n",
       "    line-height: 140%;\n",
       "    font-size: 125%;\n",
       "    font-weight: 400;\n",
       "    width:600px;\n",
       "    margin-left:auto;\n",
       "    margin-right:auto;\n",
       "}\n",
       "\n",
       "\n",
       "/* Formatting for header cells */\n",
       ".text_cell_render h1 {\n",
       "    font-family: 'Nixie One', serif;\n",
       "    font-style:regular;\n",
       "    font-weight: 400;    \n",
       "    font-size: 45pt;\n",
       "    line-height: 100%;\n",
       "    color: rgb(0,51,102);\n",
       "    margin-bottom: 0.5em;\n",
       "    margin-top: 0.5em;\n",
       "    display: block;\n",
       "}\n",
       "\n",
       ".text_cell_render h2 {\n",
       "    font-family: 'Nixie One', serif;\n",
       "    font-weight: 400;\n",
       "    font-size: 30pt;\n",
       "    line-height: 100%;\n",
       "    color: rgb(0,51,102);\n",
       "    margin-bottom: 0.1em;\n",
       "    margin-top: 0.3em;\n",
       "    display: block;\n",
       "}\t\n",
       "\n",
       ".text_cell_render h3 {\n",
       "    font-family: 'Nixie One', serif;\n",
       "    margin-top:16px;\n",
       "    font-size: 22pt;\n",
       "    font-weight: 600;\n",
       "    margin-bottom: 3px;\n",
       "    font-style: regular;\n",
       "    color: rgb(102,102,0);\n",
       "}\n",
       "\n",
       ".text_cell_render h4 {    /*Use this for captions*/\n",
       "    font-family: 'Nixie One', serif;\n",
       "    font-size: 14pt;\n",
       "    text-align: center;\n",
       "    margin-top: 0em;\n",
       "    margin-bottom: 2em;\n",
       "    font-style: regular;\n",
       "}\n",
       "\n",
       ".text_cell_render h5 {  /*Use this for small titles*/\n",
       "    font-family: 'Nixie One', sans-serif;\n",
       "    font-weight: 400;\n",
       "    font-size: 16pt;\n",
       "    color: rgb(163,0,0);\n",
       "    font-style: italic;\n",
       "    margin-bottom: .1em;\n",
       "    margin-top: 0.8em;\n",
       "    display: block;\n",
       "}\n",
       "\n",
       ".text_cell_render h6 { /*use this for copyright note*/\n",
       "    font-family: 'PT Mono', sans-serif;\n",
       "    font-weight: 300;\n",
       "    font-size: 9pt;\n",
       "    line-height: 100%;\n",
       "    color: grey;\n",
       "    margin-bottom: 1px;\n",
       "    margin-top: 1px;\n",
       "}\n",
       "\n",
       ".CodeMirror{\n",
       "    font-family: \"Source Code Pro\";\n",
       "    font-size: 90%;\n",
       "}\n",
       "\n",
       ".alert-box {\n",
       "    padding:10px 10px 10px 36px;\n",
       "    margin:5px;\n",
       "}\n",
       "\n",
       ".success {\n",
       "    color:#666600;\n",
       "    background:rgb(240,242,229);\n",
       "}\n",
       "</style>\n",
       "\n",
       "<script>\n",
       "    MathJax.Hub.Config({\n",
       "                        TeX: {\n",
       "                            extensions: [\"AMSmath.js\"],\n",
       "                            equationNumbers: { autoNumber: \"AMS\", useLabelIds: true}\n",
       "                            },\n",
       "                        tex2jax: {\n",
       "                            inlineMath: [ ['$','$'], [\"\\\\(\",\"\\\\)\"] ],\n",
       "                            displayMath: [ ['$$','$$'], [\"\\\\[\",\"\\\\]\"] ]\n",
       "                            },\n",
       "                        displayAlign: 'center', // Change this to 'center' to center equations.\n",
       "                        \"HTML-CSS\": {\n",
       "                            styles: {'.MathJax_Display': {\"margin\": 4}}\n",
       "                            }\n",
       "                        });\n",
       "    MathJax.Hub.Queue(\n",
       "                      [\"resetEquationNumbers\", MathJax.InputJax.TeX],\n",
       "                      [\"PreProcess\", MathJax.Hub],\n",
       "                      [\"Reprocess\", MathJax.Hub]\n",
       "                     );\n",
       "</script>\n"
      ],
      "text/plain": [
       "<IPython.core.display.HTML object>"
      ]
     },
     "execution_count": 15,
     "metadata": {},
     "output_type": "execute_result"
    }
   ],
   "source": [
    "from IPython.core.display import HTML\n",
    "css_file = '../../styles/numericalmoocstyle.css'\n",
    "HTML(open(css_file, 'r').read())"
   ]
  },
  {
   "cell_type": "code",
   "execution_count": null,
   "metadata": {},
   "outputs": [],
   "source": []
  },
  {
   "cell_type": "code",
   "execution_count": null,
   "metadata": {},
   "outputs": [],
   "source": []
  },
  {
   "cell_type": "code",
   "execution_count": null,
   "metadata": {},
   "outputs": [],
   "source": []
  }
 ],
 "metadata": {
  "kernelspec": {
   "display_name": "Python 3",
   "language": "python",
   "name": "python3"
  },
  "language_info": {
   "codemirror_mode": {
    "name": "ipython",
    "version": 3
   },
   "file_extension": ".py",
   "mimetype": "text/x-python",
   "name": "python",
   "nbconvert_exporter": "python",
   "pygments_lexer": "ipython3",
   "version": "3.7.4"
  }
 },
 "nbformat": 4,
 "nbformat_minor": 1
}
