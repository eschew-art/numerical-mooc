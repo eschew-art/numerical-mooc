{
 "cells": [
  {
   "cell_type": "code",
   "execution_count": 1,
   "metadata": {},
   "outputs": [],
   "source": [
    "################################# with Heaviside function everywhere ##############\n",
    "import numpy as np\n",
    "from matplotlib import pyplot, cm\n",
    "%matplotlib inline\n",
    "\n",
    "from tqdm import tqdm\n",
    "import time\n",
    "\n",
    "import sys\n",
    "np.set_printoptions(threshold=sys.maxsize)\n",
    "\n",
    "# Set the font family and size to use for Matplotlib figures.\n",
    "pyplot.rcParams['font.family'] = 'serif'\n",
    "pyplot.rcParams['font.size'] = 16"
   ]
  },
  {
   "cell_type": "code",
   "execution_count": 2,
   "metadata": {
    "scrolled": false
   },
   "outputs": [
    {
     "name": "stdout",
     "output_type": "stream",
     "text": [
      "Current time is: Fri Nov  8 12:18:17 2019\n"
     ]
    }
   ],
   "source": [
    "g0=4            #Bacterial growth Parameter\n",
    "gamma=16        #Bacterial growth Parameter\n",
    "k_value=42.5    #Bacterial growth Parameter\n",
    "\n",
    "Dc=1e-3     #Diffusion Coefficient of Nutrient \n",
    "Db=.04      #Diffusion Coefficient of Bacterial Colony dispersion\n",
    "\n",
    "t_ref=20    #Reference time (time when death of bacterial cells initiate)\n",
    "Xe_value=.3       #Cut-off population density\n",
    "\n",
    "X0=1e-3     #Reference population density for demarcating colony boundary\n",
    "\n",
    "C0=15       #Initial nutrient concentration (15g/L)\n",
    "C_thresh_value=1.5\n",
    "\n",
    "d=20 #separation between inoculum change; check for 5mm, 10mm, 20mm\n",
    "rho=2.5\n",
    "mu=40\n",
    "\n",
    "dx=dy = 0.25\n",
    "\n",
    "print(\"Current time is: \", end=\"\")\n",
    "print(time.asctime( time.localtime(time.time())))\n",
    "\n",
    "gridx,gridy=189,189    # should be odd numbers, keep both numbers equal e.g. 369,369 as per paper\n",
    "dx=0.25*(369/gridx)\n",
    "dy=0.25*(369/gridy)"
   ]
  },
  {
   "cell_type": "code",
   "execution_count": 3,
   "metadata": {},
   "outputs": [
    {
     "name": "stdout",
     "output_type": "stream",
     "text": [
      "Initializing Initial Conditions has been completed\n",
      "Current time is: Fri Nov  8 12:18:18 2019\n"
     ]
    }
   ],
   "source": [
    "X1=np.zeros((gridx,gridy),dtype=np.float64)   # 2-D array \n",
    "X2=np.zeros((gridx,gridy),dtype=np.float64)\n",
    "C=np.zeros((gridx,gridy),dtype=np.float64)\n",
    "m=np.zeros((gridx,gridy))\n",
    "C_thresh=np.zeros((gridx,gridy))\n",
    "Xe=np.zeros((gridx,gridy))\n",
    "k=np.zeros((gridx,gridy))\n",
    "\n",
    "#(taking x,y for coordinate positions) :\n",
    "x=np.linspace(-int(gridx/2),int(gridx/2),num=gridx,dtype=int)  #grid positions --> e.g. for 369 grids, numbering would be -184,-183,..,0,..,183,184\n",
    "y=np.linspace(-int(gridy/2),int(gridy/2),num=gridy,dtype=int)  \n",
    "x0=np.where(x==0)[0][0]   # defining centre of grid as Origin\n",
    "y0=np.where(y==0)[0][0]\n",
    "xl=np.linspace(-184*.25,184*.25,num=len(x))      # x-coordinate of each grid point (gives distance from origin in x direction)       \n",
    "yl=np.linspace(-184*.25,184*.25,num=len(y))\n",
    "\n",
    "############# Defining Initial Conditions #############\n",
    "# for X1 and X2\n",
    "for i in range(len(x)):\n",
    "    for j in range(len(y)):\n",
    "        if  ((xl[i]-d/2)**2 + yl[j]**2 <= rho**2):\n",
    "            X1[i,j] = X0\n",
    "        \n",
    "        if  (xl[i]+d/2)**2 + yl[j]**2 <= rho**2:\n",
    "            X2[i,j] = X0\n",
    "\n",
    "\n",
    "                                                                       #np.savetxt('output.txt',X1,fmt='%.4e')\n",
    "\n",
    "#Initializing parameters in array for all positional coordinates on 2D grid:\n",
    "for i in range(len(x)):\n",
    "    for j in range(len(y)):\n",
    "        C[i,j]=C0\n",
    "        C_thresh[i,j]=C_thresh_value\n",
    "        k[i,j]=k_value\n",
    "        Xe[i,j]=Xe_value\n",
    "\n",
    "\n",
    "\n",
    "print(\"Initializing Initial Conditions has been completed\")\n",
    "#######################################################        \n",
    "print(\"Current time is: \", end=\"\")\n",
    "print(time.asctime( time.localtime(time.time())))"
   ]
  },
  {
   "cell_type": "code",
   "execution_count": null,
   "metadata": {
    "scrolled": false,
    "slideshow": {
     "slide_type": "slide"
    }
   },
   "outputs": [
    {
     "name": "stdout",
     "output_type": "stream",
     "text": [
      "The growth for time by time step 0.009598 for 48.000000 hour time length has been completed for:-\n",
      "0 steps, Wall clock time: Fri Nov  8 12:18:24 2019\n",
      "100 steps, Wall clock time: Fri Nov  8 12:19:11 2019\n",
      "200 steps, Wall clock time: Fri Nov  8 12:19:57 2019\n",
      "300 steps, Wall clock time: Fri Nov  8 12:20:38 2019\n",
      "400 steps, Wall clock time: Fri Nov  8 12:21:19 2019\n",
      "500 steps, Wall clock time: Fri Nov  8 12:22:01 2019\n",
      "600 steps, Wall clock time: Fri Nov  8 12:22:43 2019\n",
      "700 steps, Wall clock time: Fri Nov  8 12:23:38 2019\n",
      "800 steps, Wall clock time: Fri Nov  8 12:24:25 2019\n",
      "900 steps, Wall clock time: Fri Nov  8 12:25:17 2019\n",
      "1000 steps, Wall clock time: Fri Nov  8 12:26:12 2019\n",
      "1100 steps, Wall clock time: Fri Nov  8 12:26:59 2019\n",
      "1200 steps, Wall clock time: Fri Nov  8 12:27:50 2019\n",
      "1300 steps, Wall clock time: Fri Nov  8 12:28:39 2019\n",
      "1400 steps, Wall clock time: Fri Nov  8 12:29:55 2019\n"
     ]
    }
   ],
   "source": [
    "def H_t(var,value):        # heavy side step function for time & Xe, not for matrix output\n",
    "    if var-value <0:\n",
    "        return 0\n",
    "    if var-value==0:\n",
    "        return 0.5\n",
    "    else: return 1\n",
    "\n",
    "    \n",
    "def H_pos(mat1,mat2):      # heavy side step function for position, for matrix output of heavy side function values at each grid point\n",
    "    \n",
    "    mat3=np.zeros(mat1.shape)\n",
    "    \n",
    "    for i in range(max(mat1.shape)):\n",
    "        for j in range(min(mat1.shape)):\n",
    "            if mat1[i,j]-mat2[i,j]<0:\n",
    "                mat3[i,j]=0\n",
    "            if mat1[i,j]-mat2[i,j]==0:\n",
    "                mat3[i,j]=0.5\n",
    "            else: mat3[i,j]=1\n",
    "    return mat3\n",
    "\n",
    "\n",
    "\n",
    "def growth(nt,time_length):  # to be given number of time steps\n",
    "    \n",
    "    # nt : number of time-steps -- to be made 5001\n",
    "    # time_length in hours: duration of time upto which you wish to see the simulation --- to be made 48 hours\n",
    "\n",
    "    dt=time_length/nt       # time-step size\n",
    "    print(\"The growth for time by time step %f for %f hour time length has been completed for:-\" %(dt,time_length))\n",
    "    \n",
    "    for n in range(nt):\n",
    "        \n",
    "        g_c=g0*np.divide(C,np.add(k,C))\n",
    "        \n",
    "        m[:,:]=mu*np.multiply(X1[:,:],X2[:,:])*H_pos(Xe,X1+X2)*H_t((n+1)*dt,t_ref)\n",
    "        X1[1:-1,1:-1]=X1[1:-1,1:-1]+dt*((np.multiply(g_c[1:-1,1:-1],X1[1:-1,1:-1]))+Db*np.multiply(H_pos(C[1:-1,1:-1],C_thresh[1:-1,1:-1]),(((X1[2:,1:-1]-2*X1[1:-1,1:-1]+X1[:-2,1:-1])/dx**2) + ((X1[1:-1,2:]-2*X1[1:-1,1:-1]+X1[1:-1,:-2])/dy**2))) - m[1:-1,1:-1])\n",
    "        X2[1:-1,1:-1]=X2[1:-1,1:-1]+dt*((np.multiply(g_c[1:-1,1:-1],X2[1:-1,1:-1]))+Db*np.multiply(H_pos(C[1:-1,1:-1],C_thresh[1:-1,1:-1]),(((X2[2:,1:-1]-2*X2[1:-1,1:-1]+X2[:-2,1:-1])/dx**2) + ((X2[1:-1,2:]-2*X2[1:-1,1:-1]+X2[1:-1,:-2])/dy**2))) - m[1:-1,1:-1])\n",
    "        \n",
    "        C[1:-1,1:-1]= C[1:-1,1:-1] +dt*(-gamma*(np.multiply(g_c[1:-1,1:-1],np.add(X1[1:-1,1:-1],X2[1:-1,1:-1]))) + Dc*(((C[2:,1:-1]-2*C[1:-1,1:-1]+C[:-2,1:-1])/dx**2) + ((C[1:-1,2:]-2*C[1:-1,1:-1]+C[1:-1,:-2])/dy**2)))\n",
    "\n",
    "        ############# Start: Boundary Conditions ######################\n",
    "        \n",
    "        #Neumann Condition: Normal component of Bacterial density on boundary is zero\n",
    "        \n",
    "        X1[:][-1] = X1[:][-2]\n",
    "        X1[:][0]  = X1[:][1] \n",
    "        X1[-1][:] = X1[-2][:]\n",
    "        X1[0][:]  = X1[1][:] \n",
    "\n",
    "        X2[:][-1] = X2[:][-2]\n",
    "        X2[:][0]  = X2[:][1] \n",
    "        X2[-1][:] = X2[-2][:]\n",
    "        X2[0][:]  = X2[1][:] \n",
    "\n",
    "        \n",
    "        \n",
    "        #Dirichlet condition: Fixed and Unchanging Concentration of growth media on boundary\n",
    "        C[0][:]=C[-1][:]=C[:][0]=C[:][-1]=C0\n",
    "        \n",
    "        ############# End: Boundary Conditions ######################\n",
    "\n",
    "        ############ Start: Saving history of Bacterial Density and Growth Media Concentration #########\n",
    "        \n",
    "        X1_hist[n+1][:][:]=X1[:][:]\n",
    "        X2_hist[n+1][:][:]=X2[:][:]\n",
    "        C_hist[n+1][:][:]=C[:][:]\n",
    "        \n",
    "        ############ End: Saving history of Bacterial Density and Growth Media Concentration #########\n",
    "        \n",
    "            \n",
    "        if n%100==0:\n",
    "            print(\"%d steps, Wall clock time: \"  %n, end=\"\")\n",
    "            print(time.asctime( time.localtime(time.time())))\n",
    "        \n",
    "        \n",
    "nt=5001\n",
    "time_length=(48/5001)*nt\n",
    "\n",
    "X1_hist=np.zeros((nt+1,gridx,gridy))\n",
    "X2_hist=np.zeros((nt+1,gridx,gridy))\n",
    "C_hist=np.zeros((nt+1,gridx,gridy))\n",
    "\n",
    "X1_hist[0][:][:]=X1[:][:]\n",
    "X2_hist[0][:][:]=X2[:][:]\n",
    "C_hist[0][:][:]=C[:][:]\n",
    "\n",
    "growth(nt,time_length)\n",
    "\n",
    "print(\"All the step calculations for growth have been completed\")  \n",
    "print(\"Wall clock time: \" ,end=\"\")\n",
    "print(time.asctime( time.localtime(time.time())))"
   ]
  },
  {
   "cell_type": "code",
   "execution_count": null,
   "metadata": {
    "scrolled": false
   },
   "outputs": [],
   "source": [
    "#print(\"Plotting figures for Nutrient Media Concentration\")\n",
    "#for i in range(10):\n",
    " #   fig=pyplot.figure(figsize=(9.2,9.2))\n",
    "    \n",
    "  #  pyplot.xlabel('x')\n",
    "  #  pyplot.ylabel('y')\n",
    "  #  levels = np.linspace(0, 15, num=10) # the lowest point is being set zero because there is a negative bacterial density coming in picture otherwise\n",
    "  #  contf = pyplot.contourf(x, y, C_hist[i][:][:], levels=levels)\n",
    "  #  fig.suptitle('Concentration after %d time steps' %i)\n",
    "  #  cbar = pyplot.colorbar(contf)\n",
    "#    cbar.set_label('C after %d time steps' %i)\n",
    "#    print(i)\n",
    "#    pyplot.axis('scaled', adjustable='box')\n",
    "#    fig.savefig('Concentration-%d.jpg'%i)\n",
    "#    ;\n",
    "\n",
    "#print(\"Current time is: \", end=\"\")\n",
    "#print(time.asctime( time.localtime(time.time())))\n"
   ]
  },
  {
   "cell_type": "code",
   "execution_count": null,
   "metadata": {
    "scrolled": false
   },
   "outputs": [],
   "source": [
    "print(\"Plotting figures for X1 & X2 growth\")\n",
    "for i in np.linspace(0,5000,num=50,dtype=int):\n",
    "    fig=pyplot.figure(figsize=(9.2,9.2))\n",
    "\n",
    "    pyplot.xlabel('x')\n",
    "    pyplot.ylabel('y')\n",
    "    levels = np.linspace(0, np.max(X2_hist[i]+X1_hist[i]), num=30) # the lowest point is being set zero because there is a negative bacterial density coming in picture otherwise\n",
    "    contf = pyplot.contourf(x, y, X2_hist[i]+X1_hist[i], levels=levels)\n",
    "    fig.suptitle('X1+X2 after %d time steps' %i)\n",
    "    cbar = pyplot.colorbar(contf)\n",
    "    cbar.set_label('X1+X2 after %d time steps' %i)\n",
    "    print(i)\n",
    "    pyplot.axis('scaled', adjustable='box')\n",
    "    fig.savefig('X1 n X2 %d.jpg'%i)\n",
    "    ;\n",
    "print(\"Current time is: \", end=\"\")\n",
    "print(time.asctime( time.localtime(time.time())))\n"
   ]
  },
  {
   "cell_type": "code",
   "execution_count": null,
   "metadata": {
    "scrolled": false
   },
   "outputs": [],
   "source": [
    "\n",
    "############# Animation ################\n",
    "\n",
    "#from matplotlib import animation\n",
    "#from IPython.display import HTML"
   ]
  },
  {
   "cell_type": "code",
   "execution_count": null,
   "metadata": {
    "scrolled": false
   },
   "outputs": [],
   "source": [
    "import winsound\n",
    "duration = 5000  # milliseconds\n",
    "freq = 440  # Hz\n",
    "winsound.Beep(freq, duration)"
   ]
  },
  {
   "cell_type": "code",
   "execution_count": null,
   "metadata": {},
   "outputs": [],
   "source": []
  },
  {
   "cell_type": "code",
   "execution_count": null,
   "metadata": {},
   "outputs": [],
   "source": []
  },
  {
   "cell_type": "code",
   "execution_count": null,
   "metadata": {},
   "outputs": [],
   "source": []
  },
  {
   "cell_type": "code",
   "execution_count": null,
   "metadata": {},
   "outputs": [],
   "source": []
  },
  {
   "cell_type": "code",
   "execution_count": null,
   "metadata": {},
   "outputs": [],
   "source": []
  },
  {
   "cell_type": "code",
   "execution_count": null,
   "metadata": {},
   "outputs": [],
   "source": []
  },
  {
   "cell_type": "code",
   "execution_count": null,
   "metadata": {},
   "outputs": [],
   "source": []
  },
  {
   "cell_type": "code",
   "execution_count": null,
   "metadata": {},
   "outputs": [],
   "source": []
  }
 ],
 "metadata": {
  "celltoolbar": "Slideshow",
  "kernelspec": {
   "display_name": "Python 3",
   "language": "python",
   "name": "python3"
  },
  "language_info": {
   "codemirror_mode": {
    "name": "ipython",
    "version": 3
   },
   "file_extension": ".py",
   "mimetype": "text/x-python",
   "name": "python",
   "nbconvert_exporter": "python",
   "pygments_lexer": "ipython3",
   "version": "3.7.4"
  }
 },
 "nbformat": 4,
 "nbformat_minor": 2
}
